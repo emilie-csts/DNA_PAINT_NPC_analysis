{
 "cells": [
  {
   "cell_type": "markdown",
   "id": "6e1e99dc",
   "metadata": {},
   "source": [
    "## Calculate the NPC diameter is stress conditions from a line profile acquired from Image J "
   ]
  },
  {
   "cell_type": "markdown",
   "id": "0b3b2618",
   "metadata": {},
   "source": [
    "The idea is to see if there is any difference in the NPC diameter depending on the stress applied to the cell before fixation. Before this analysis, ON events are detected with Picasso Localize and localizations are reconstructed with Picasso Render. A drift correction is then performed on Picasso Render. The rendered localizations are exported on a .csv file and gave to ThunderStorm plugin on Image J. ThunderStorm reconstructs the image.  "
   ]
  },
  {
   "cell_type": "markdown",
   "id": "83703159",
   "metadata": {},
   "source": [
    "Workflow of the NPC diameter analysis: \n",
    "- Single NPC is picked \n",
    "- A line profile is traced on the chosen NPC \n",
    "- Line profile data set is saved on a .csv file "
   ]
  },
  {
   "cell_type": "markdown",
   "id": "951d7d29",
   "metadata": {},
   "source": [
    "### Import the packages"
   ]
  },
  {
   "cell_type": "markdown",
   "id": "47231d3b",
   "metadata": {},
   "source": [
    "# Line profile good method"
   ]
  },
  {
   "cell_type": "markdown",
   "id": "abeccc18",
   "metadata": {},
   "source": [
    "The idea of this code is to compare NPC diameter when cells are under mechanical constraints or stress. \n",
    "\n",
    "We start from a DNA PAINT reconstructed image and from x,y coordinates of NPC centers (manually picked in Jupyter) and we want to extract NPC diameter for each NPC in each condition. "
   ]
  },
  {
   "cell_type": "markdown",
   "id": "ec4295bc",
   "metadata": {},
   "source": [
    "### Import packages"
   ]
  },
  {
   "cell_type": "code",
   "execution_count": null,
   "id": "dfdc28e7",
   "metadata": {},
   "outputs": [],
   "source": [
    "from tifffile import tifffile\n",
    "from PIL import Image\n",
    "import pandas as pd\n",
    "import matplotlib.pyplot as plt\n",
    "import cv2\n",
    "import numpy as np \n",
    "from line_profile import generate_line_profile, generate_rotational_line_profile, average_rotational_line_profile"
   ]
  },
  {
   "cell_type": "markdown",
   "id": "9ac089f9",
   "metadata": {},
   "source": [
    "### Load DNA PAINT reconstructed images \n",
    "\n",
    "The localizations were detected in Picasso Localize. Then the drift correction and needed filtering was done in Picasso Render and Picasso Filter respectively. Localizations were exported in a txt file and opened through the ThunderStorm plugin of ImageJ. From the localizations, a reconstructed image is produced. "
   ]
  },
  {
   "cell_type": "code",
   "execution_count": null,
   "id": "e8f2b125",
   "metadata": {
    "tags": []
   },
   "outputs": [],
   "source": [
    "# Load control condition image\n",
    "nucleus_control = \"C:/Users/Emilie/Documents/Data/DNA_PAINT/2023/20231204/Fileset_879751/20231204_reconstructed_image_thunderstorm_3.tif\"\n",
    "\n",
    "# Load hypertonic condition image \n",
    "nucleus_hyper = \"C:/Users/Emilie/Documents/Data/DNA_PAINT/2023/20231213/Fileset_882048/20231213_reconstructed_image_thunderstorm.tif\"\n",
    "\n",
    "# Load hypotonic condition image \n",
    "#nucleus_hypo = \"C:/Users/Emilie/Documents/Data/DNA_PAINT/2023/20231213/Fileset_882048/20231213_reconstructed_image_thunderstorm.tif\"\n",
    "\n",
    "# Opens a image in RGB mode\n",
    "image_control = Image.open(nucleus_control)\n",
    "image_hyper = Image.open(nucleus_hyper)\n",
    "#image_hypo = Image.open(nucleus_hypo)\n",
    "\n",
    "with tifffile.TiffFile(nucleus_control) as tif:\n",
    "    raw_control = tif.pages[0].asarray()  # image as numpy array\n",
    "    pxs_nm_control = 1e9/tif.pages[0].tags['XResolution'].value[0]  # pixel size in nm\n",
    "    print('px size= ',pxs_nm_control)\n",
    "    print(raw_control.shape)\n",
    "    \n",
    "with tifffile.TiffFile(nucleus_hyper) as tif:\n",
    "    raw_hyper = tif.pages[0].asarray()  # image as numpy array\n",
    "    pxs_nm_hyper = 1e9/tif.pages[0].tags['XResolution'].value[0]  # pixel size in nm\n",
    "    print('px size= ',pxs_nm_hyper)\n",
    "    print(raw_hyper.shape)\n",
    "\n",
    "'''with tifffile.TiffFile(nucleus_hypo) as tif:\n",
    "    raw_hypo = tif.pages[0].asarray()  # image as numpy array\n",
    "    pxs_nm_hypo = 1e9/tif.pages[0].tags['XResolution'].value[0]  # pixel size in nm\n",
    "    print('px size= ',pxs_nm_hypo)\n",
    "    print(raw_hypo.shape)'''\n",
    "    "
   ]
  },
  {
   "cell_type": "code",
   "execution_count": null,
   "id": "49699d01",
   "metadata": {},
   "outputs": [],
   "source": [
    "fig, ax = plt.subplots()\n",
    "ax.set_title('Reconstructed DNA PAINT image control')\n",
    "ax.imshow(image_control)"
   ]
  },
  {
   "cell_type": "markdown",
   "id": "ff2089cc",
   "metadata": {},
   "source": [
    "### Automatic NPC detection "
   ]
  },
  {
   "cell_type": "markdown",
   "id": "fde65932",
   "metadata": {},
   "source": [
    "1. Gaussian blur applied on the image --> the goal is to transform a ring into a bright spot\n",
    "2. Peak detection + centroïd finding "
   ]
  },
  {
   "cell_type": "code",
   "execution_count": null,
   "id": "ec13e125",
   "metadata": {},
   "outputs": [],
   "source": [
    "from scipy.ndimage import gaussian_filter\n",
    "from nucmask import nucleus_mask, nucleus_focus_mask\n",
    "    \n",
    "# Gaussian Blur \n",
    "im_ctrl_blur = gaussian_filter(raw_control, (5,5))\n",
    "fig, ax = plt.subplots()\n",
    "ax.set_title('Blured DNA PAINT image control')\n",
    "ax.imshow(im_ctrl_blur)\n",
    "\n",
    "# Nucleus mask to remove out of focus regions \n",
    "mask_ctrl = nucleus_focus_mask(im_ctrl_blur, gaussstd_nm=500, pxs_nm=9, num_di=12, num_er=5) # get binary mask \n",
    "processed_control_img = (im_ctrl_blur)*mask_ctrl\n",
    "fig, ax = plt.subplots()\n",
    "ax.set_title('Blured DNA PAINT image control + mask')\n",
    "ax.imshow(processed_control_img)"
   ]
  },
  {
   "cell_type": "code",
   "execution_count": null,
   "id": "f8ad69e3",
   "metadata": {},
   "outputs": [],
   "source": [
    "# Automatic NPC detection \n",
    "\n",
    "from detect import detect_pores\n",
    "from skimage.filters import threshold_otsu\n",
    "\n",
    "Th_control = threshold_otsu(raw_control)+np.std(raw_control)\n",
    "print(Th_control)\n",
    "control_peaks = detect_pores(processed_control_img, threshold=Th_control, fwhm=120/pxs_nm_control)\n",
    "\n",
    "fig, ax = plt.subplots(figsize=(12,15))\n",
    "ax.scatter(control_peaks[:,0], control_peaks[:,1], s=20,c='#FF000000',marker='o',edgecolors='y',linewidths=1)\n",
    "ax.set_title('Detected NPC on DNA PAINT image control')\n",
    "ax.imshow(image_control)"
   ]
  },
  {
   "cell_type": "code",
   "execution_count": null,
   "id": "b63a7e5b",
   "metadata": {},
   "outputs": [],
   "source": [
    "# For each detected NPC store the x and y coordinates of the center \n",
    "\n",
    "# create an Empty DataFrame object\n",
    "df = pd.DataFrame()\n",
    " \n",
    "# append columns to an empty DataFrame\n",
    "df['x_coordinate'] = control_peaks[:,0]\n",
    "df['y_coordinate'] = control_peaks[:,1]\n",
    "df['Condition']= \"Control\"\n",
    " \n",
    "df\n"
   ]
  },
  {
   "cell_type": "code",
   "execution_count": null,
   "id": "9ec0f480",
   "metadata": {},
   "outputs": [],
   "source": [
    "#crop_img=[]\n",
    "#diameter = []\n",
    "#diameter_hypertonic = []\n",
    "# Function to crop around the NPC center\n",
    "def center_crop(img,dim,cent_x,cent_y):  \n",
    "    width, height = img.shape[1], img.shape[0]\n",
    "\n",
    "    # process crop width and height for max available dimension\n",
    "    crop_width = dim[0] if dim[0]<img.shape[1] else img.shape[1]\n",
    "    crop_height = dim[1] if dim[1]<img.shape[0] else img.shape[0] \n",
    "    cw2, ch2 = int(crop_width/2), int(crop_height/2) \n",
    "    crop_img = img[int(cent_y)-ch2:int(cent_y)+ch2, int(cent_x)-cw2:int(cent_x)+cw2]\n",
    "    return (crop_img)"
   ]
  },
  {
   "cell_type": "code",
   "execution_count": null,
   "id": "c9617d15",
   "metadata": {},
   "outputs": [],
   "source": [
    "# Define the parameters for rotational line profile\n",
    "\n",
    "angle_bin = 20\n",
    "\n",
    "length_control = round(300/pxs_nm_control)\n",
    "length_hyper = round(300/pxs_nm_hyper)\n",
    "#length_hypo = round(300/pxs_nm_hypo)\n",
    "\n",
    "bins = 51\n",
    "\n",
    "l_control=round(length_control/2)+1\n",
    "l_hyper = round(length_hyper/2)+1\n",
    "# l_hypo = round(length_hypo/2)+1\n",
    "\n",
    "x = np.linspace(-150,150,bins) "
   ]
  },
  {
   "cell_type": "code",
   "execution_count": null,
   "id": "a8b432f7",
   "metadata": {
    "scrolled": false
   },
   "outputs": [],
   "source": [
    "# Do it for all the NPC \n",
    "\n",
    "crop_control = []#; crop_hyper = []#; crop_hypo = []\n",
    "profile_control = []#; profile_hyper = []#; profile_hypo = [] \n",
    "average_control = []#; average_hyper = []#; average_hypo = []\n",
    "\n",
    "for i in range(0,len(df['x_coordinate'])):\n",
    "    if (df['Condition'].iloc[i]=='Control'):\n",
    "        crop_control.append(center_crop(raw_control,(20,20),df['x_coordinate'][i],df['y_coordinate'][i]))\n",
    "        profile_control.append(generate_rotational_line_profile(raw_control, (df['x_coordinate'][i],df['y_coordinate'][i]), \n",
    "                                                       angle_bin, length_control, bins))\n",
    "        average_control.append(average_rotational_line_profile(raw_control, (df['x_coordinate'][i],df['y_coordinate'][i]), \n",
    "                                                       angle_bin, length_control, bins))\n",
    "    \n",
    "    '''if (df['Condition'].iloc[i]=='Hypertonic'):\n",
    "        crop_hyper.append(center_crop(raw_hyper,(20,20),df['x_px'][i],df['y_px'][i]))\n",
    "        profile_hyper.append(generate_rotational_line_profile(hyper_img, (df['x_px'][i], df['y_px'][i]), \n",
    "                                                       angle_bin, length_control, bins))\n",
    "        average_hyper.append(average_rotational_line_profile(hyper_img, (df['x_px'][i],df['y_px'][i]), \n",
    "                                                       angle_bin, length_control, bins))'''\n",
    "    '''if (df['Condition'].iloc[i]=='Hypotonic'):\n",
    "        crop_hypo.append(center_crop(raw_hypo,(20,20),df['x_px'][i],df['y_px'][i]))\n",
    "        profile_hypo.append(generate_rotational_line_profile(hypo_img, (df['x_px'][i], df['y_px'][i]), \n",
    "                                                       angle_bin, length_control, bins))\n",
    "           average_hypo.append(average_rotational_line_profile(hypo_img, (df['x_px'][i],df['y_px'][i]), \n",
    "                                                       angle_bin, length_control, bins))'''\n",
    "\n",
    "for k in range (0, len(profile_control)):\n",
    "# One can do the following part in a loop to print at the same time all the crop and all the profiles \n",
    "    fig,(ax0,ax1) = plt.subplots(nrows=1, ncols=2,figsize=(8,4))\n",
    "# Plot line profiles for each channel\n",
    "    ax0.imshow(crop_control[k])\n",
    "    for angle in range(0,int(180-180/angle_bin),int(180/angle_bin)):\n",
    "        X = np.linspace(10 - (length_control/3) * np.cos(angle),\n",
    "                        10 + (length_control/3) * np.cos(angle),\n",
    "                        bins)\n",
    "        Y = np.linspace(10 - (length_control/3) * np.sin(angle),\n",
    "                        10 + (length_control/3) * np.sin(angle),\n",
    "                        bins)\n",
    "        ax0.plot(X,Y)\n",
    "    ax1.plot(x,average_control[k],'g',linewidth=3)\n",
    "    for j in range(0,len(profile_control[k])):\n",
    "        ax1.plot(x,profile_control[k][j],'black',linestyle='dashed')"
   ]
  },
  {
   "cell_type": "markdown",
   "id": "3bade187",
   "metadata": {},
   "source": [
    "#### Filter the line profiles that only have 2 peaks "
   ]
  },
  {
   "cell_type": "code",
   "execution_count": null,
   "id": "31bdf3ee",
   "metadata": {},
   "outputs": [],
   "source": [
    "import numpy as np\n",
    "import matplotlib.pyplot as plt\n",
    "from lmfit.models import GaussianModel\n",
    "from scipy.signal import find_peaks\n",
    "\n",
    "# In this part I try to filter the profiles that only have 2 peaks \n",
    "\n",
    "x = np.linspace(-150,150,bins) \n",
    "\n",
    "def count_peaks(x, y):\n",
    "    # Use scipy's find_peaks to identify peaks in the signal\n",
    "    peaks = find_peaks(y, height=20)  # Adjust the height parameter as needed\n",
    "    return len(peaks)\n",
    "\n",
    "filtered_profiles = []\n",
    "def filter_profiles(profiles):\n",
    "    # Filter out profiles with a number of peaks different from 2\n",
    "    for profile in profiles:\n",
    "        if count_peaks(x,df['y_coordinate'])==2:\n",
    "            filtered_profiles.append(profile)\n",
    "    return filtered_profiles\n",
    "\n",
    "nb_peaks = []\n",
    "for i in range(0,len(average_control)):\n",
    "    nb_peaks.append(count_peaks(x,df['y_coordinate']))\n",
    "print(nb_peaks)"
   ]
  },
  {
   "cell_type": "markdown",
   "id": "5698a18d",
   "metadata": {},
   "source": [
    "#### Fit with a two gaussian function to calculate the NPC diameter"
   ]
  },
  {
   "cell_type": "code",
   "execution_count": null,
   "id": "6a3071db",
   "metadata": {},
   "outputs": [],
   "source": [
    "#Fit the average profiles with a two gaussian function \n",
    "\n",
    "from scipy.optimize import curve_fit\n",
    "x = np.linspace(-150,150,bins) \n",
    "diameter = []\n",
    "NPC_ID = []\n",
    "# Define a two gaussian function\n",
    "def two_gaussians(x, a1, b1, c1, a2, b2, c2):\n",
    "    return a1 * np.exp(-(x - b1)**2 / (2 * c1**2)) + a2 * np.exp(-(x - b2)**2 / (2 * c2**2))\n",
    "\n",
    "# Define a function to fit with a two gaussian curve \n",
    "def two_gauss_fit(initial_guess,profile):\n",
    "    # Fit the data using curve_fit\n",
    "    for k in range(0,len(filter_profiles(profile))):\n",
    "        try: \n",
    "            my_array=filter_profiles(profile[k])\n",
    "            if all(element == my_array[0] for element in my_array):\n",
    "                    # If all values are 0, delete the array\n",
    "                del my_array\n",
    "\n",
    "            else:\n",
    "                params, covariance = curve_fit(two_gaussians, x, filter_profiles(profile[k]), p0=initial_guess)\n",
    "\n",
    "                    # Extract the fitted parameters\n",
    "                a1_fit, b1_fit, c1_fit, a2_fit, b2_fit, c2_fit = params\n",
    "\n",
    "                    # Generate the fitted curve\n",
    "                y_fit = two_gaussians(x, a1_fit, b1_fit, c1_fit, a2_fit, b2_fit, c2_fit)\n",
    "\n",
    "                diameter.append(-params[1]+params[4])\n",
    "                NPC_ID.append(k)\n",
    "        except: \n",
    "            pass\n",
    "    return(diameter,NPC_ID)\n",
    "\n",
    "diam_ctrl = two_gauss_fit((1e4, -50, 20, 5e4, 50, 20),filter_profiles(average_control))\n",
    "dfdiam = pd.DataFrame()\n",
    "dfdiam['NPC diameter'] = diam_ctrl[0]\n",
    "dfdiam['NPC id'] = diam_ctrl[1]\n",
    "dfdiam['Condition'] = 'Control'\n",
    "print(dfdiam)\n",
    "\n",
    "'''diam_hyper = two_gauss_fit((1e4, -50, 20, 5e4, 50, 20),profile_hyper)\n",
    "dfdiam_hyper = pd.DataFrame()\n",
    "dfdiam_hyper['NPC diameter'] = diam_hyper[0]\n",
    "dfdiam_hyper['NPC id'] = diam_hyper[1]\n",
    "dfdiam_hyper['Condition'] = 'Hypertonic'\n",
    "#print(dfdiam_hyper)\n",
    "\n",
    "df_final = pd.concat([dfdiam,dfdiam_hyper],ignore_index=True)\n",
    "print(df_final)'''"
   ]
  },
  {
   "cell_type": "code",
   "execution_count": null,
   "id": "97318cda",
   "metadata": {},
   "outputs": [],
   "source": [
    "print(np.mean(dfdiam['NPC diameter']))"
   ]
  },
  {
   "cell_type": "code",
   "execution_count": null,
   "id": "47e10d5a",
   "metadata": {},
   "outputs": [],
   "source": [
    "# Maybe not needed \n",
    "\n",
    "from process import process\n",
    "from nucmask import nucleus_mask, nucleus_focus_mask\n",
    "# Image processing \n",
    "# Gaussian size in nm for denoising\n",
    "gf_nm = 10 # sigma for gaussian blur \n",
    "\n",
    "control_img = process(raw_control, gf_nm, pxs_nm_control)\n",
    "#hypo_img = process(raw_hypo, gf_nm, pxs_nm_hypo)\n",
    "hyper_img = process(raw_hyper, gf_nm, pxs_nm_hyper)\n",
    "\n",
    "mask_ctrl = nucleus_focus_mask(control_img, gaussstd_nm=500, pxs_nm=15, num_di=12, num_er=5) # get binary mask \n",
    "control_img = (control_img)*mask_ctrl\n",
    "#mask_hypo = nucleus_focus_mask(hypo_img, gaussstd_nm=500, pxs_nm=15, num_di=12, num_er=5) # get binary mask \n",
    "#hypo_img = (hypo_img)*mask_hypo\n",
    "mask_hyper = nucleus_focus_mask(hyper_img, gaussstd_nm=500, pxs_nm=15, num_di=12, num_er=5) # get binary mask\n",
    "hyper_img = (hyper_img)*mask_hyper\n",
    "\n",
    "fig, axs = plt.subplots(nrows=2, sharex=True, figsize=(12, 15))\n",
    "axs[0].set_title('Reconstructed DNA PAINT image control')\n",
    "axs[0].imshow(control_img)\n",
    "\n",
    "axs[1].set_title('Reconstructed DNA PAINT image hypertonic')\n",
    "axs[1].imshow(hyper_img)\n",
    "plt.show()"
   ]
  },
  {
   "cell_type": "markdown",
   "id": "9ef3061c",
   "metadata": {},
   "source": [
    "### Non automatic version do detect pores "
   ]
  },
  {
   "cell_type": "code",
   "execution_count": null,
   "id": "2791eae2",
   "metadata": {
    "tags": []
   },
   "outputs": [],
   "source": [
    "NPC_centers_control = \"C:/Users/Emilie/Documents/Data/DNA_PAINT/2023/20231204/Fileset_879751/NPC_centers.ods\"\n",
    "NPC_centers_hyper = \"C:/Users/Emilie/Documents/Data/DNA_PAINT/2023/20231213/Fileset_882048/NPC_centers.ods\"\n",
    "#NPC_centers_hypo = \n",
    "\n",
    "# Transform the coordinate into pixel number \n",
    "df_control = pd.read_excel(NPC_centers_control, engine='odf')\n",
    "condition = 'Control'\n",
    "df_control['Condition'] = condition\n",
    "x_nm = df_control['x_um']*1000\n",
    "y_nm = df_control['y_um']*1000\n",
    "x_px = x_nm/pxs_nm_control # Need to distingwish between control and other conditions \n",
    "y_px = y_nm/pxs_nm_control\n",
    "df_control['x_px']=x_px\n",
    "df_control['y_px']=y_px\n",
    "\n",
    "df_hyper = pd.read_excel(NPC_centers_hyper, engine='odf')\n",
    "condition = 'Hypertonic'\n",
    "df_hyper['Condition'] = condition\n",
    "x_nm = df_hyper['x_um']*1000\n",
    "y_nm = df_hyper['y_um']*1000\n",
    "x_px = x_nm/pxs_nm_hyper # Need to distingwish between control and other conditions \n",
    "y_px = y_nm/pxs_nm_hyper\n",
    "df_hyper['x_px']=x_px\n",
    "df_hyper['y_px']=y_px\n",
    "\n",
    "'''df_hypo = \n",
    "condition = 'Hypotonic'\n",
    "df_hypo['Condition'] = condition'''\n",
    "\n",
    "# Concatenate the 3 dataframes\n",
    "#df = pd.concat([df_control,df_hyper,df_hypo],ignore_index = True)\n",
    "df = pd.concat([df_control,df_hyper],ignore_index = True)\n",
    "\n",
    "print(df)"
   ]
  },
  {
   "cell_type": "code",
   "execution_count": null,
   "id": "756ce4f4",
   "metadata": {},
   "outputs": [],
   "source": [
    "fig, ax = plt.subplots(figsize=(10,10))\n",
    "plt.imshow(control_img)\n",
    "x = df['x_px'][df['Condition'] == 'Control']\n",
    "y = df['y_px'][df['Condition'] == 'Control']\n",
    "ax.scatter(x, y, s=10,c='m', marker='+',linewidths=2)\n",
    "ax.set_title('Reconstructed DNA PAINT image control condition', fontsize=10)"
   ]
  },
  {
   "cell_type": "code",
   "execution_count": null,
   "id": "5c870a49",
   "metadata": {},
   "outputs": [],
   "source": [
    "fig, ax = plt.subplots(figsize=(10,10))\n",
    "plt.imshow(hyper_img)\n",
    "x = df['x_px'][df['Condition'] == 'Hypertonic']\n",
    "y = df['y_px'][df['Condition'] == 'Hypertonic']\n",
    "ax.scatter(x, y, s=10,c='m', marker='+',linewidths=2)\n",
    "ax.set_title('Reconstructed DNA PAINT image hypertonic condition', fontsize=10)"
   ]
  },
  {
   "cell_type": "code",
   "execution_count": null,
   "id": "08dd781a",
   "metadata": {
    "tags": []
   },
   "outputs": [],
   "source": [
    "#crop_img=[]\n",
    "#diameter = []\n",
    "#diameter_hypertonic = []\n",
    "# Function to crop around the NPC center\n",
    "def center_crop(img,dim,cent_x,cent_y):  \n",
    "    width, height = img.shape[1], img.shape[0]\n",
    "\n",
    "    # process crop width and height for max available dimension\n",
    "    crop_width = dim[0] if dim[0]<img.shape[1] else img.shape[1]\n",
    "    crop_height = dim[1] if dim[1]<img.shape[0] else img.shape[0] \n",
    "    cw2, ch2 = int(crop_width/2), int(crop_height/2) \n",
    "    crop_img = img[int(cent_y)-ch2:int(cent_y)+ch2, int(cent_x)-cw2:int(cent_x)+cw2]\n",
    "    return (crop_img)"
   ]
  },
  {
   "cell_type": "code",
   "execution_count": null,
   "id": "fe7de856",
   "metadata": {},
   "outputs": [],
   "source": [
    "# Define the parameters for rotational line profile\n",
    "\n",
    "angle_bin = 20\n",
    "\n",
    "length_control = round(300/pxs_nm_control)\n",
    "length_hyper = round(300/pxs_nm_hyper)\n",
    "#length_hypo = round(300/pxs_nm_hypo)\n",
    "\n",
    "bins = 51\n",
    "\n",
    "l_control=round(length_control/2)+1\n",
    "l_hyper = round(length_hyper/2)+1\n",
    "# l_hypo = round(length_hypo/2)+1\n",
    "\n",
    "x = np.linspace(-150,150,bins) "
   ]
  },
  {
   "cell_type": "code",
   "execution_count": null,
   "id": "b26831e2",
   "metadata": {},
   "outputs": [],
   "source": [
    "# Do it for all the NPC \n",
    "\n",
    "crop_control = []; crop_hyper = []#; crop_hypo = []\n",
    "profile_control = []; profile_hyper = []#; profile_hypo = [] \n",
    "average_control = []; average_hyper = []#; average_hypo = []\n",
    "\n",
    "for i in range(0,len(df['x_px'])):\n",
    "    if (df['Condition'].iloc[i]=='Control'):\n",
    "        crop_control.append(center_crop(raw_control,(20,20),df['x_px'][i],df['y_px'][i]))\n",
    "        profile_control.append(generate_rotational_line_profile(control_img, (df['x_px'][i],df['y_px'][i]), \n",
    "                                                       angle_bin, length_control, bins))\n",
    "        average_control.append(average_rotational_line_profile(control_img, (df['x_px'][i],df['y_px'][i]), \n",
    "                                                       angle_bin, length_control, bins))\n",
    "    \n",
    "    if (df['Condition'].iloc[i]=='Hypertonic'):\n",
    "        crop_hyper.append(center_crop(raw_hyper,(20,20),df['x_px'][i],df['y_px'][i]))\n",
    "        profile_hyper.append(generate_rotational_line_profile(hyper_img, (df['x_px'][i], df['y_px'][i]), \n",
    "                                                       angle_bin, length_control, bins))\n",
    "        average_hyper.append(average_rotational_line_profile(hyper_img, (df['x_px'][i],df['y_px'][i]), \n",
    "                                                       angle_bin, length_control, bins))\n",
    "    if (df['Condition'].iloc[i]=='Hypotonic'):\n",
    "        '''crop_hypo.append(center_crop(raw_hypo,(20,20),df['x_px'][i],df['y_px'][i]))'''\n",
    "        '''profile_hypo.append(generate_rotational_line_profile(hypo_img, (df['x_px'][i], df['y_px'][i]), \n",
    "                                                       angle_bin, length_control, bins))\n",
    "           average_hypo.append(average_rotational_line_profile(hypo_img, (df['x_px'][i],df['y_px'][i]), \n",
    "                                                       angle_bin, length_control, bins))'''\n",
    "\n",
    "for k in range (0, len(profile_hyper)):\n",
    "# One can do the following part in a loop to print at the same time all the crop and all the profiles \n",
    "    fig,(ax0,ax1) = plt.subplots(nrows=1, ncols=2,figsize=(8,4))\n",
    "# Plot line profiles for each channel\n",
    "    ax0.imshow(crop_hyper[k])\n",
    "    for angle in range(0,int(180-180/angle_bin),int(180/angle_bin)):\n",
    "        x = np.linspace(10 - (length_hyper/2) * np.cos(angle),\n",
    "                        10 + (length_hyper/2) * np.cos(angle),\n",
    "                        bins)\n",
    "        y = np.linspace(10 - (length_hyper/2) * np.sin(angle),\n",
    "                        10 + (length_hyper/2) * np.sin(angle),\n",
    "                        bins)\n",
    "        ax0.plot(x,y)\n",
    "        print(angle)\n",
    "    ax1.plot(x,average_hyper[k],'g',linewidth=3)\n",
    "    for j in range(0,len(profile_hyper[k])):\n",
    "        ax1.plot(x,profile_hyper[k][j],'black',linestyle='dashed')\n",
    "        \n",
    "print(len(profile_hyper[0]))"
   ]
  },
  {
   "cell_type": "code",
   "execution_count": null,
   "id": "dac4c83d",
   "metadata": {},
   "outputs": [],
   "source": [
    "print(len(profile_hyper[15]))"
   ]
  },
  {
   "cell_type": "code",
   "execution_count": null,
   "id": "40c284ad",
   "metadata": {},
   "outputs": [],
   "source": [
    "initial_guess = [1e4, -50, 20, 5e4, 50, 20] # Initial guesses for the parameters"
   ]
  },
  {
   "cell_type": "code",
   "execution_count": null,
   "id": "1143ce39",
   "metadata": {},
   "outputs": [],
   "source": [
    "from scipy.optimize import curve_fit\n",
    "x = np.linspace(-150,150,bins) \n",
    "diameter = []\n",
    "NPC_ID = []\n",
    "# Define a two gaussian function\n",
    "def two_gaussians(x, a1, b1, c1, a2, b2, c2):\n",
    "    return a1 * np.exp(-(x - b1)**2 / (2 * c1**2)) + a2 * np.exp(-(x - b2)**2 / (2 * c2**2))\n",
    "\n",
    "# Define a function to fit with a two gaussian curve \n",
    "def two_gauss_fit(initial_guess,profile):\n",
    "    # Fit the data using curve_fit\n",
    "    for k in range(0,len(profile)):\n",
    "        for j in range(0,len(profile[k])):\n",
    "            try: \n",
    "                my_array=profile[k][j]\n",
    "                if all(element == my_array[0] for element in my_array):\n",
    "                    # If all values are 0, delete the array\n",
    "                    del my_array\n",
    "\n",
    "                else:\n",
    "                    params, covariance = curve_fit(two_gaussians, x, profile[k][j], p0=initial_guess)\n",
    "\n",
    "                    # Extract the fitted parameters\n",
    "                    a1_fit, b1_fit, c1_fit, a2_fit, b2_fit, c2_fit = params\n",
    "\n",
    "                    # Generate the fitted curve\n",
    "                    y_fit = two_gaussians(x, a1_fit, b1_fit, c1_fit, a2_fit, b2_fit, c2_fit)\n",
    "\n",
    "                    diameter.append(-params[1]+params[4])\n",
    "                    NPC_ID.append(k)\n",
    "            except: \n",
    "                pass\n",
    "    return(diameter,NPC_ID)\n",
    "\n",
    "diam_ctrl = two_gauss_fit((1e4, -50, 20, 5e4, 50, 20),profile_control)\n",
    "dfdiam = pd.DataFrame()\n",
    "dfdiam['NPC diameter'] = diam_ctrl[0]\n",
    "dfdiam['NPC id'] = diam_ctrl[1]\n",
    "dfdiam['Condition'] = 'Control'\n",
    "#print(dfdiam)\n",
    "\n",
    "diam_hyper = two_gauss_fit((1e4, -50, 20, 5e4, 50, 20),profile_hyper)\n",
    "dfdiam_hyper = pd.DataFrame()\n",
    "dfdiam_hyper['NPC diameter'] = diam_hyper[0]\n",
    "dfdiam_hyper['NPC id'] = diam_hyper[1]\n",
    "dfdiam_hyper['Condition'] = 'Hypertonic'\n",
    "#print(dfdiam_hyper)\n",
    "\n",
    "df_final = pd.concat([dfdiam,dfdiam_hyper],ignore_index=True)\n",
    "print(df_final)"
   ]
  },
  {
   "cell_type": "code",
   "execution_count": null,
   "id": "fbb961c3",
   "metadata": {},
   "outputs": [],
   "source": [
    "import seaborn as sns\n",
    "sns.boxplot(x=\"NPC id\", y=\"NPC diameter\",\n",
    "            data=df_final[df_final[\"Condition\"]==\"Control\"])"
   ]
  },
  {
   "cell_type": "code",
   "execution_count": null,
   "id": "cce17baf",
   "metadata": {},
   "outputs": [],
   "source": [
    "sns.boxplot(x=\"NPC id\", y=\"NPC diameter\",\n",
    "            data=df_final[df_final[\"Condition\"]==\"Hypertonic\"])"
   ]
  },
  {
   "cell_type": "code",
   "execution_count": null,
   "id": "3233ac9c",
   "metadata": {},
   "outputs": [],
   "source": [
    "sns.boxplot(x=\"Condition\", y=\"NPC diameter\", hue = \"Condition\",\n",
    "            data=df_final)"
   ]
  },
  {
   "cell_type": "code",
   "execution_count": null,
   "id": "bb6c3fa0",
   "metadata": {},
   "outputs": [],
   "source": []
  }
 ],
 "metadata": {
  "kernelspec": {
   "display_name": "Python 3 (ipykernel)",
   "language": "python",
   "name": "python3"
  },
  "language_info": {
   "codemirror_mode": {
    "name": "ipython",
    "version": 3
   },
   "file_extension": ".py",
   "mimetype": "text/x-python",
   "name": "python",
   "nbconvert_exporter": "python",
   "pygments_lexer": "ipython3",
   "version": "3.11.5"
  }
 },
 "nbformat": 4,
 "nbformat_minor": 5
}
